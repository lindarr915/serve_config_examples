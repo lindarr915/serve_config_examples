{
 "cells": [
  {
   "cell_type": "code",
   "execution_count": 2,
   "metadata": {},
   "outputs": [
    {
     "name": "stdout",
     "output_type": "stream",
     "text": [
      "Write the response to `output.png`.\n"
     ]
    }
   ],
   "source": [
    "import requests\n",
    "\n",
    "# TODO: Set your prompt here\n",
    "prompt = \"a cute cat is dancing on the grass.\"\n",
    "input = \"%20\".join(prompt.split(\" \"))\n",
    "resp = requests.get(f\"http://127.0.0.1:8000/imagine?prompt={input}\")\n",
    "\n",
    "print(\"Write the response to `output.png`.\")\n",
    "with open(\"output.png\", \"wb\") as f:\n",
    "    f.write(resp.content)\n"
   ]
  }
 ],
 "metadata": {
  "kernelspec": {
   "display_name": "Python 3",
   "language": "python",
   "name": "python3"
  },
  "language_info": {
   "codemirror_mode": {
    "name": "ipython",
    "version": 3
   },
   "file_extension": ".py",
   "mimetype": "text/x-python",
   "name": "python",
   "nbconvert_exporter": "python",
   "pygments_lexer": "ipython3",
   "version": "3.10.12"
  }
 },
 "nbformat": 4,
 "nbformat_minor": 2
}
