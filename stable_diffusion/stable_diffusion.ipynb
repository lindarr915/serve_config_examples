{
 "cells": [
  {
   "cell_type": "code",
   "execution_count": 4,
   "metadata": {},
   "outputs": [
    {
     "ename": "TypeError",
     "evalue": "StableDiffusionV2.generate() missing 1 required positional argument: 'self'",
     "output_type": "error",
     "traceback": [
      "\u001b[0;31m---------------------------------------------------------------------------\u001b[0m",
      "\u001b[0;31mTypeError\u001b[0m                                 Traceback (most recent call last)",
      "Cell \u001b[0;32mIn[4], line 29\u001b[0m\n\u001b[1;32m     25\u001b[0m             image \u001b[38;5;241m=\u001b[39m \u001b[38;5;28mself\u001b[39m\u001b[38;5;241m.\u001b[39mpipe(prompt, height\u001b[38;5;241m=\u001b[39mimg_size, width\u001b[38;5;241m=\u001b[39mimg_size)\u001b[38;5;241m.\u001b[39mimages[\u001b[38;5;241m0\u001b[39m]\n\u001b[1;32m     26\u001b[0m             \u001b[38;5;28;01mreturn\u001b[39;00m image\n\u001b[0;32m---> 29\u001b[0m image \u001b[38;5;241m=\u001b[39m \u001b[43mStableDiffusionV2\u001b[49m\u001b[38;5;241;43m.\u001b[39;49m\u001b[43mgenerate\u001b[49m\u001b[43m(\u001b[49m\u001b[43mprompt\u001b[49m\u001b[43m \u001b[49m\u001b[38;5;241;43m=\u001b[39;49m\u001b[43m \u001b[49m\u001b[38;5;124;43m\"\u001b[39;49m\u001b[38;5;124;43mA man sleeping\u001b[39;49m\u001b[38;5;124;43m\"\u001b[39;49m\u001b[43m)\u001b[49m\n",
      "\u001b[0;31mTypeError\u001b[0m: StableDiffusionV2.generate() missing 1 required positional argument: 'self'"
     ]
    }
   ],
   "source": [
    "from io import BytesIO\n",
    "import torch\n",
    "\n",
    "class StableDiffusionV2:\n",
    "    def __init__(self):\n",
    "        from diffusers import EulerDiscreteScheduler, StableDiffusionPipeline, DiffusionPipeline\n",
    "\n",
    "        model_id = \"stabilityai/stable-diffusion-2\"\n",
    "        # model_id = \"stabilityai/stable-diffusion-xl-base-1.0\"\n",
    "\n",
    "        scheduler = EulerDiscreteScheduler.from_pretrained(\n",
    "            model_id, subfolder=\"scheduler\"\n",
    "        )\n",
    "\n",
    "        self.pipe = StableDiffusionPipeline.from_pretrained(\n",
    "            model_id, scheduler=scheduler, revision=\"fp16\", torch_dtype=torch.float16\n",
    "        )\n",
    "\n",
    "        self.pipe = self.pipe.to(\"cuda\")\n",
    "\n",
    "    def generate(self, prompt: str, img_size: int = 512):\n",
    "        assert len(prompt), \"prompt parameter cannot be empty\"\n",
    "\n",
    "        with torch.autocast(\"cuda\"):\n",
    "            image = self.pipe(prompt, height=img_size, width=img_size).images[0]\n",
    "            return image\n",
    "\n",
    "app = StableDiffusionV2\n",
    "image = app.generate(prompt = \"A man sleeping\")\n"
   ]
  }
 ],
 "metadata": {
  "kernelspec": {
   "display_name": "Python 3",
   "language": "python",
   "name": "python3"
  },
  "language_info": {
   "codemirror_mode": {
    "name": "ipython",
    "version": 3
   },
   "file_extension": ".py",
   "mimetype": "text/x-python",
   "name": "python",
   "nbconvert_exporter": "python",
   "pygments_lexer": "ipython3",
   "version": "3.10.12"
  }
 },
 "nbformat": 4,
 "nbformat_minor": 2
}
